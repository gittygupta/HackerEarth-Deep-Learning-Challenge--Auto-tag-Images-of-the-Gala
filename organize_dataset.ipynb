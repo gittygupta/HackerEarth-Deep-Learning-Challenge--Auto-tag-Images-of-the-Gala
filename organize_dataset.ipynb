{
 "nbformat": 4,
 "nbformat_minor": 2,
 "metadata": {
  "language_info": {
   "name": "python",
   "codemirror_mode": {
    "name": "ipython",
    "version": 3
   },
   "version": "3.6.7-final"
  },
  "orig_nbformat": 2,
  "file_extension": ".py",
  "mimetype": "text/x-python",
  "name": "python",
  "npconvert_exporter": "python",
  "pygments_lexer": "ipython3",
  "version": 3,
  "kernelspec": {
   "name": "python36764bitfastaiconda45e5babfd28c4aaf8458c4c4e8135151",
   "display_name": "Python 3.6.7 64-bit ('fastai': conda)"
  }
 },
 "cells": [
  {
   "cell_type": "code",
   "execution_count": 1,
   "metadata": {},
   "outputs": [],
   "source": [
    "from fastai.vision import *\n",
    "import cv2"
   ]
  },
  {
   "cell_type": "code",
   "execution_count": 2,
   "metadata": {},
   "outputs": [
    {
     "output_type": "stream",
     "name": "stdout",
     "text": "Number of training samples :  5983\n"
    }
   ],
   "source": [
    "classes = ['Food', 'Attire', 'Decorationandsignage', 'misc']\n",
    "f = open('original_dataset/train.csv', 'r')\n",
    "arr = f.read()\n",
    "data = list(map(str, arr.split('\\n')))\n",
    "data = data[1:-1]\n",
    "print('Number of training samples : ', len(data))"
   ]
  },
  {
   "cell_type": "code",
   "execution_count": 3,
   "metadata": {},
   "outputs": [],
   "source": [
    "filename = []\n",
    "class_val = []\n",
    "for i in range(len(data)):\n",
    "    file_val, class_name = data[i].split(',')\n",
    "    filename.append(file_val)\n",
    "    class_val.append(class_name)"
   ]
  },
  {
   "cell_type": "code",
   "execution_count": 4,
   "metadata": {},
   "outputs": [
    {
     "output_type": "execute_result",
     "data": {
      "text/plain": "[WindowsPath('dataset/Attire'),\n WindowsPath('dataset/Decorationandsignage'),\n WindowsPath('dataset/Food'),\n WindowsPath('dataset/misc'),\n WindowsPath('dataset/Test Images'),\n WindowsPath('dataset/test.csv'),\n WindowsPath('dataset/Train Images'),\n WindowsPath('dataset/train.csv')]"
     },
     "metadata": {},
     "execution_count": 4
    }
   ],
   "source": [
    "directory = 'dataset'\n",
    "for i in classes:\n",
    "    path = Path(directory)\n",
    "    dest = path/i\n",
    "    dest.mkdir(parents=True, exist_ok=True)\n",
    "path.ls()"
   ]
  },
  {
   "cell_type": "code",
   "execution_count": 5,
   "metadata": {},
   "outputs": [],
   "source": [
    "for i in range(len(data)):\n",
    "    a = cv2.imread(\"original_dataset/Train Images/\" + filename[i])\n",
    "    cv2.imwrite(directory + '/' + class_val[i] + '/' + filename[i], a)"
   ]
  },
  {
   "cell_type": "code",
   "execution_count": 12,
   "metadata": {},
   "outputs": [],
   "source": [
    "total = 0\n",
    "i = 0\n",
    "for i in range(len(data)):\n",
    "    a = cv2.imread(\"original_dataset/Train Images/\" + filename[i])\n",
    "    total += a.shape[1]"
   ]
  },
  {
   "cell_type": "code",
   "execution_count": 13,
   "metadata": {},
   "outputs": [
    {
     "output_type": "stream",
     "name": "stdout",
     "text": "Average Size :  80.0\n"
    }
   ],
   "source": [
    "avg_size = total/len(data)\n",
    "print('Average Size : ', avg_size)"
   ]
  },
  {
   "cell_type": "code",
   "execution_count": null,
   "metadata": {},
   "outputs": [],
   "source": []
  }
 ]
}